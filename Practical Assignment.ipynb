import pandas
df = pandas.read_csv("HealthServices.csv", header = 0)
print(df)
